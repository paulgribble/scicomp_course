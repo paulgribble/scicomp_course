{
 "cells": [
  {
   "cell_type": "markdown",
   "metadata": {},
   "source": [
    "# Getting Started with Scientific Computing\n",
    "\n",
    "Welcome! This notebook will help you verify your environment and introduce the main scientific Python libraries we'll be using in this course."
   ]
  },
  {
   "cell_type": "markdown",
   "metadata": {},
   "source": [
    "## 1. Environment Check\n",
    "\n",
    "First, let's verify that all required packages are installed and check their versions."
   ]
  },
  {
   "cell_type": "code",
   "execution_count": null,
   "metadata": {},
   "outputs": [],
   "source": [
    "import sys\n",
    "import numpy as np\n",
    "import pandas as pd\n",
    "import matplotlib.pyplot as plt\n",
    "import scipy\n",
    "import sklearn\n",
    "import IPython\n",
    "import jupyterlab\n",
    "\n",
    "print(\"Environment Check\")\n",
    "print(\"=\" * 50)\n",
    "\n",
    "packages = {\n",
    "    \"Python\": sys.version.split()[0],\n",
    "    \"NumPy\": np.__version__,\n",
    "    \"Pandas\": pd.__version__,\n",
    "    \"Matplotlib\": plt.matplotlib.__version__,\n",
    "    \"SciPy\": scipy.__version__,\n",
    "    \"Scikit-learn\": sklearn.__version__,\n",
    "    \"IPython\": IPython.__version__,\n",
    "    \"JupyterLab\": jupyterlab.__version__\n",
    "}\n",
    "\n",
    "for name, version in packages.items():\n",
    "    print(f\"{name:20} {version}\")\n",
    "\n",
    "print(\"\\n✅ All packages loaded successfully!\")"
   ]
  },
  {
   "cell_type": "markdown",
   "metadata": {},
   "source": [
    "## 2. NumPy - Numerical Computing\n",
    "\n",
    "NumPy is the foundation for numerical computing in Python. It provides fast arrays and mathematical functions."
   ]
  },
  {
   "cell_type": "code",
   "execution_count": null,
   "metadata": {},
   "outputs": [],
   "source": [
    "# Create arrays\n",
    "x = np.linspace(0, 2*np.pi, 100)\n",
    "y = np.sin(x)\n",
    "\n",
    "print(\"Array shape:\", x.shape)\n",
    "print(\"First 5 values:\", x[:5])\n",
    "print(\"Array statistics:\")\n",
    "print(f\"  Mean: {y.mean():.4f}\")\n",
    "print(f\"  Std:  {y.std():.4f}\")\n",
    "print(f\"  Min:  {y.min():.4f}\")\n",
    "print(f\"  Max:  {y.max():.4f}\")"
   ]
  },
  {
   "cell_type": "markdown",
   "metadata": {},
   "source": [
    "## 3. Matplotlib - Data Visualization\n",
    "\n",
    "Matplotlib is the primary plotting library. Let's create a simple plot."
   ]
  },
  {
   "cell_type": "code",
   "execution_count": null,
   "metadata": {},
   "outputs": [],
   "source": [
    "# Create a plot\n",
    "plt.figure(figsize=(10, 4))\n",
    "plt.plot(x, y, 'b-', linewidth=2, label='sin(x)')\n",
    "plt.plot(x, np.cos(x), 'r--', linewidth=2, label='cos(x)')\n",
    "plt.xlabel('x (radians)')\n",
    "plt.ylabel('y')\n",
    "plt.title('Basic Trigonometric Functions')\n",
    "plt.legend()\n",
    "plt.grid(True, alpha=0.3)\n",
    "plt.tight_layout()\n",
    "plt.show()"
   ]
  },
  {
   "cell_type": "markdown",
   "metadata": {},
   "source": [
    "## 4. Pandas - Data Analysis\n",
    "\n",
    "Pandas provides powerful data structures for working with structured data."
   ]
  },
  {
   "cell_type": "code",
   "execution_count": null,
   "metadata": {},
   "outputs": [],
   "source": [
    "# Create a DataFrame\n",
    "data = {\n",
    "    'Name': ['Alice', 'Bob', 'Charlie', 'Diana', 'Eve'],\n",
    "    'Age': [25, 30, 35, 28, 32],\n",
    "    'Score': [85.5, 92.3, 78.9, 88.1, 95.7]\n",
    "}\n",
    "\n",
    "df = pd.DataFrame(data)\n",
    "print(\"DataFrame:\")\n",
    "print(df)\n",
    "print(\"\\nSummary statistics:\")\n",
    "print(df.describe())"
   ]
  },
  {
   "cell_type": "markdown",
   "metadata": {},
   "source": [
    "## 5. SciPy - Scientific Computing\n",
    "\n",
    "SciPy extends NumPy with additional scientific computing tools."
   ]
  },
  {
   "cell_type": "code",
   "execution_count": null,
   "metadata": {},
   "outputs": [],
   "source": [
    "from scipy import stats\n",
    "from scipy.integrate import quad\n",
    "\n",
    "# Statistical test\n",
    "data1 = np.random.normal(100, 15, 100)\n",
    "data2 = np.random.normal(105, 15, 100)\n",
    "\n",
    "t_stat, p_value = stats.ttest_ind(data1, data2)\n",
    "print(f\"T-test results:\")\n",
    "print(f\"  t-statistic: {t_stat:.4f}\")\n",
    "print(f\"  p-value: {p_value:.4f}\")\n",
    "\n",
    "# Numerical integration\n",
    "result, error = quad(lambda x: np.sin(x), 0, np.pi)\n",
    "print(f\"\\nIntegral of sin(x) from 0 to π: {result:.6f}\")\n",
    "print(f\"Expected value: 2.0\")"
   ]
  },
  {
   "cell_type": "markdown",
   "metadata": {},
   "source": [
    "## 6. Scikit-learn - Machine Learning\n",
    "\n",
    "Scikit-learn provides simple and efficient tools for machine learning."
   ]
  },
  {
   "cell_type": "code",
   "execution_count": null,
   "metadata": {},
   "outputs": [],
   "source": [
    "from sklearn.linear_model import LinearRegression\n",
    "from sklearn.metrics import r2_score\n",
    "\n",
    "# Generate some data\n",
    "np.random.seed(42)\n",
    "X = np.random.rand(100, 1) * 10\n",
    "y = 2.5 * X.squeeze() + np.random.randn(100) * 2 + 5\n",
    "\n",
    "# Fit a linear model\n",
    "model = LinearRegression()\n",
    "model.fit(X, y)\n",
    "y_pred = model.predict(X)\n",
    "\n",
    "print(f\"Linear Regression Results:\")\n",
    "print(f\"  Slope: {model.coef_[0]:.4f}\")\n",
    "print(f\"  Intercept: {model.intercept_:.4f}\")\n",
    "print(f\"  R² score: {r2_score(y, y_pred):.4f}\")\n",
    "\n",
    "# Plot the results\n",
    "plt.figure(figsize=(8, 5))\n",
    "plt.scatter(X, y, alpha=0.5, label='Data')\n",
    "plt.plot(X, y_pred, 'r-', linewidth=2, label='Fit')\n",
    "plt.xlabel('X')\n",
    "plt.ylabel('y')\n",
    "plt.title('Linear Regression Example')\n",
    "plt.legend()\n",
    "plt.grid(True, alpha=0.3)\n",
    "plt.tight_layout()\n",
    "plt.show()"
   ]
  },
  {
   "cell_type": "markdown",
   "metadata": {},
   "source": [
    "## 7. Your Turn!\n",
    "\n",
    "Try creating your own analysis below. Some ideas:\n",
    "- Load a dataset and explore it with Pandas\n",
    "- Create visualizations of your data\n",
    "- Perform statistical tests\n",
    "- Build a simple model\n",
    "\n",
    "The cell below is yours to experiment!"
   ]
  },
  {
   "cell_type": "code",
   "execution_count": null,
   "metadata": {},
   "outputs": [],
   "source": [
    "# Your code here\n"
   ]
  },
  {
   "cell_type": "markdown",
   "metadata": {},
   "source": [
    "## Summary\n",
    "\n",
    "You've now verified that:\n",
    "- ✅ Your Python environment is working\n",
    "- ✅ All scientific computing packages are installed\n",
    "- ✅ You can create plots and visualizations\n",
    "- ✅ You can perform numerical computations and statistical analysis\n",
    "- ✅ You can build machine learning models\n",
    "\n",
    "You're ready to start the course! 🎉"
   ]
  }
 ],
 "metadata": {
  "kernelspec": {
   "display_name": "Python 3 (ipykernel)",
   "language": "python",
   "name": "python3"
  },
  "language_info": {
   "codemirror_mode": {
    "name": "ipython",
    "version": 3
   },
   "file_extension": ".py",
   "mimetype": "text/x-python",
   "name": "python",
   "nbconvert_exporter": "python",
   "pygments_lexer": "ipython3",
   "version": "3.12.0"
  }
 },
 "nbformat": 4,
 "nbformat_minor": 4
}
